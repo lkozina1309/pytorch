{
 "cells": [
  {
   "cell_type": "markdown",
   "id": "56c0ac7e",
   "metadata": {},
   "source": [
    "We'll make binary classifier for images of cats and dogs, which we will later use for detection in videos. We'll use dogs_vs_cats dataset from Kaggle as well as transfer learning and ResNet50 model. "
   ]
  },
  {
   "cell_type": "markdown",
   "id": "aa82a3ae",
   "metadata": {},
   "source": [
    "First, import the libraries."
   ]
  },
  {
   "cell_type": "code",
   "execution_count": null,
   "id": "cc09a6f3",
   "metadata": {},
   "outputs": [],
   "source": [
    "import os\n",
    "import cv2\n",
    "import time\n",
    "import random\n",
    "import numpy as np\n",
    "import torch\n",
    "import torch.nn as nn\n",
    "import torch.nn.functional as F\n",
    "from torch.utils.data import Dataset, DataLoader\n",
    "import torchvision.transforms as T\n",
    "from torchvision.models import resnet50\n",
    "from sklearn.model_selection import train_test_split\n",
    "from PIL import Image"
   ]
  },
  {
   "cell_type": "markdown",
   "id": "677b1996",
   "metadata": {},
   "source": [
    "Load the images."
   ]
  },
  {
   "cell_type": "code",
   "execution_count": null,
   "id": "a2590115",
   "metadata": {},
   "outputs": [],
   "source": [
    "TRAIN_DIR = \"/home/marija/dogs-vs-cats/train/\"\n",
    "imgs = os.listdir(TRAIN_DIR)\n",
    "\n",
    "TEST_DIR = \"/home/marija/dogs-vs-cats/test1\"\n",
    "test_imgs = os.listdir(TEST_DIR)\n",
    "\n",
    "imgs = os.listdir(TRAIN_DIR) \n",
    "test_imgs = os.listdir(TEST_DIR)"
   ]
  },
  {
   "cell_type": "markdown",
   "id": "501ceead",
   "metadata": {},
   "source": [
    "Then we'll divide each image to dog-class or cat-class and give those classes integer values."
   ]
  },
  {
   "cell_type": "code",
   "execution_count": null,
   "id": "cadd7056",
   "metadata": {},
   "outputs": [],
   "source": [
    "dogs_list = [img for img in imgs if img.split(\".\")[0] == \"dog\"]\n",
    "cats_list = [img for img in imgs if img.split(\".\")[0] == \"cat\"]\n",
    "\n",
    "class_to_int = {\"dog\" : 0, \"cat\" : 1}\n",
    "int_to_class = {0 : \"dog\", 1 : \"cat\"}"
   ]
  },
  {
   "cell_type": "markdown",
   "id": "d719cf1e",
   "metadata": {},
   "source": [
    "Some data preprocessing and spliting for validation dataset."
   ]
  },
  {
   "cell_type": "code",
   "execution_count": null,
   "id": "84bf9df1",
   "metadata": {},
   "outputs": [],
   "source": [
    "def train_transform():\n",
    "    return T.Compose([\n",
    "        T.RandomHorizontalFlip(p=0.5),\n",
    "        T.RandomRotation(15),\n",
    "        T.RandomCrop(204),\n",
    "        T.ToTensor(),\n",
    "        T.Normalize((0, 0, 0),(1, 1, 1))])\n",
    "    \n",
    "def test_transform():\n",
    "    return T.Compose([\n",
    "        T.ToTensor(),\n",
    "        T.Normalize((0, 0, 0),(1, 1, 1))])"
   ]
  },
  {
   "cell_type": "code",
   "execution_count": null,
   "id": "11ca58c5",
   "metadata": {},
   "outputs": [],
   "source": [
    "class CatOrDog(Dataset):\n",
    "    \n",
    "    def __init__(self, imgs, class_to_int, mode = \"train\", transforms = None):\n",
    "        \n",
    "        super().__init__()\n",
    "        self.imgs = imgs\n",
    "        self.class_to_int = class_to_int\n",
    "        self.mode = mode\n",
    "        self.transforms = transforms\n",
    "        \n",
    "    def __getitem__(self, idx):\n",
    "        \n",
    "        image_name = self.imgs[idx]\n",
    "        img = Image.open(TRAIN_DIR + image_name)\n",
    "        img = img.resize((224, 224))       \n",
    "        if self.mode == \"train\" or self.mode == \"val\":\n",
    "            label = self.class_to_int[image_name.split(\".\")[0]]\n",
    "            label = torch.tensor(label, dtype = torch.float32)\n",
    "            img = self.transforms(img)\n",
    "            return img, label\n",
    "        \n",
    "        elif self.mode == \"test\":\n",
    "            img = self.transforms(img)\n",
    "            return img\n",
    "                    \n",
    "    def __len__(self):\n",
    "        return len(self.imgs)"
   ]
  },
  {
   "cell_type": "code",
   "execution_count": null,
   "id": "5cc9dabd",
   "metadata": {},
   "outputs": [],
   "source": [
    "train_imgs, val_imgs = train_test_split(imgs, test_size = 0.25)"
   ]
  },
  {
   "cell_type": "code",
   "execution_count": null,
   "id": "03d0e223",
   "metadata": {},
   "outputs": [],
   "source": [
    "train_data = CatOrDog(train_imgs, class_to_int, mode = \"train\", transforms = train_transform())\n",
    "val_data = CatOrDog(val_imgs, class_to_int, mode = \"val\", transforms = test_transform())\n",
    "test_data = CatOrDog(test_imgs, class_to_int, mode = \"test\", transforms = test_transform())\n",
    "\n",
    "trainloader = DataLoader(dataset = train_data, num_workers = 4, batch_size = 32, shuffle = True)\n",
    "\n",
    "valoader = DataLoader(dataset = val_data, num_workers = 4, batch_size = 32, shuffle = True)\n",
    "\n",
    "testloader = DataLoader(dataset = test_data, num_workers = 4, batch_size = 32, shuffle = True)"
   ]
  },
  {
   "cell_type": "markdown",
   "id": "c7b97f00",
   "metadata": {},
   "source": [
    "Define a device."
   ]
  },
  {
   "cell_type": "code",
   "execution_count": null,
   "id": "d995a6b7",
   "metadata": {},
   "outputs": [],
   "source": [
    "device = torch.device('cuda') if torch.cuda.is_available() else torch.device('cpu')\n",
    "device"
   ]
  },
  {
   "cell_type": "markdown",
   "id": "7e6f2440",
   "metadata": {},
   "source": [
    "Functions for accuracy, training and validating."
   ]
  },
  {
   "cell_type": "code",
   "execution_count": null,
   "id": "b5a45c84",
   "metadata": {},
   "outputs": [],
   "source": [
    "def accuracy(predictions, trues):\n",
    "    predictions = [1 if predictions[i] >= 0.5 else 0 for i in range(len(predictions))]\n",
    "    acc = [1 if predictions[i] == trues[i] else 0 for i in range(len(predictions))]\n",
    "    acc = np.sum(acc) / len(predictions)    \n",
    "    return (acc * 100)  "
   ]
  },
  {
   "cell_type": "code",
   "execution_count": null,
   "id": "580e551f",
   "metadata": {},
   "outputs": [],
   "source": [
    "def training(trainloader):\n",
    "\n",
    "    epoch_loss = []\n",
    "    epoch_acc = []\n",
    "    start_time = time.time()\n",
    "\n",
    "    for images, labels in trainloader:\n",
    "        \n",
    "        images = images.to(device)\n",
    "        labels = labels.to(device)\n",
    "        labels = labels.reshape((labels.shape[0], 1))\n",
    "\n",
    "        optimizer.zero_grad()\n",
    "        predictions = model(images)\n",
    "        _loss = criterion(predictions, labels)\n",
    "        loss = _loss.item()\n",
    "        epoch_loss.append(loss)\n",
    "  \n",
    "        acc = accuracy(predictions, labels)\n",
    "        epoch_acc.append(acc)\n",
    "        _loss.backward()\n",
    "        optimizer.step()\n",
    "\n",
    "    end_time = time.time()\n",
    "    epoch_loss = np.mean(epoch_loss)\n",
    "    epoch_acc = np.mean(epoch_acc)\n",
    "\n",
    "    train_logs[\"loss\"].append(epoch_loss)\n",
    "    train_logs[\"accuracy\"].append(epoch_acc)\n",
    "        \n",
    "    return epoch_loss, epoch_acc    "
   ]
  },
  {
   "cell_type": "code",
   "execution_count": null,
   "id": "f5ebd8fd",
   "metadata": {},
   "outputs": [],
   "source": [
    "def validating(valoader, best_acc):\n",
    "\n",
    "    epoch_loss = []\n",
    "    epoch_acc = []\n",
    "    start_time = time.time()\n",
    "\n",
    "    for images, labels in valoader:\n",
    "\n",
    "        images = images.to(device)\n",
    "        labels = labels.to(device)\n",
    "        labels = labels.reshape((labels.shape[0], 1)) \n",
    "\n",
    "        predictions = model(images)\n",
    "        _loss = criterion(predictions, labels)\n",
    "        loss = _loss.item()\n",
    "        epoch_loss.append(loss)\n",
    "        acc = accuracy(predictions, labels)\n",
    "        epoch_acc.append(acc)\n",
    "\n",
    "    end_time = time.time()\n",
    "    epoch_loss = np.mean(epoch_loss)\n",
    "    epoch_acc = np.mean(epoch_acc)\n",
    "\n",
    "    val_logs[\"loss\"].append(epoch_loss)\n",
    "    val_logs[\"accuracy\"].append(epoch_acc)\n",
    "\n",
    "    if epoch_acc > best_val_acc:\n",
    "        best_acc = epoch_acc\n",
    "        torch.save(model.state_dict(),\"tfl_model.pth\")\n",
    "        \n",
    "    return epoch_loss, epoch_acc, best_acc"
   ]
  },
  {
   "cell_type": "markdown",
   "id": "178d0f65",
   "metadata": {},
   "source": [
    "As we are using ResNet50 model, only last layer should be trained."
   ]
  },
  {
   "cell_type": "code",
   "execution_count": null,
   "id": "3f3c3b06",
   "metadata": {},
   "outputs": [],
   "source": [
    "model = resnet50(pretrained = True)\n",
    "\n",
    "model.fc = nn.Sequential(\n",
    "    nn.Linear(2048, 1, bias = True),\n",
    "    nn.Sigmoid())"
   ]
  },
  {
   "cell_type": "markdown",
   "id": "a3cf3528",
   "metadata": {},
   "source": [
    "Adam optimizer gives good results for binary classification, as well as BCELoss() function. Laerning rate should be small because we don't want to change our weights too much."
   ]
  },
  {
   "cell_type": "code",
   "execution_count": null,
   "id": "073f0dcf",
   "metadata": {},
   "outputs": [],
   "source": [
    "optimizer = torch.optim.Adam(model.parameters(), lr = 0.0001)\n",
    "lr_scheduler = torch.optim.lr_scheduler.StepLR(optimizer, step_size = 5, gamma = 0.5)\n",
    "criterion = nn.BCELoss()\n",
    "\n",
    "train_logs = {\"loss\" : [], \"accuracy\" : []}\n",
    "val_logs = {\"loss\" : [], \"accuracy\" : []}\n",
    "\n",
    "model.to(device)"
   ]
  },
  {
   "cell_type": "code",
   "execution_count": null,
   "id": "d866fe3e",
   "metadata": {},
   "outputs": [],
   "source": [
    "best_acc = 0\n",
    "for epoch in range(3):\n",
    "\n",
    "    loss, acc = training(trainloader)\n",
    "\n",
    "    print(\"\\nTraining\")\n",
    "    print(\"Epoch {}\".format(epoch+1))\n",
    "    print(\"Loss : {}\".format(round(loss, 4)))\n",
    "    print(\"Acc : {}\".format(round(acc, 4)))\n",
    "    \n",
    "    loss, acc, best_acc = validating(valoader, best_acc)\n",
    "\n",
    "    print(\"\\nValidating\")\n",
    "    print(\"Epoch {}\".format(epoch+1))\n",
    "    print(\"Loss : {}\".format(round(loss, 4)))\n",
    "    print(\"Acc : {}\".format(round(acc, 4))) "
   ]
  }
 ],
 "metadata": {
  "kernelspec": {
   "display_name": "Python 3 (ipykernel)",
   "language": "python",
   "name": "python3"
  },
  "language_info": {
   "codemirror_mode": {
    "name": "ipython",
    "version": 3
   },
   "file_extension": ".py",
   "mimetype": "text/x-python",
   "name": "python",
   "nbconvert_exporter": "python",
   "pygments_lexer": "ipython3",
   "version": "3.9.7"
  }
 },
 "nbformat": 4,
 "nbformat_minor": 5
}
